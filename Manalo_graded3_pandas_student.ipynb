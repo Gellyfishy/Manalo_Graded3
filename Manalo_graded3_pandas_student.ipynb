{
  "cells": [
    {
      "cell_type": "markdown",
      "source": [
        "Fides Angelene R. Manalo\n",
        "12201863 - RVRCOB"
      ],
      "metadata": {
        "id": "Szwxviy_Y-iO"
      },
      "id": "Szwxviy_Y-iO"
    },
    {
      "cell_type": "markdown",
      "id": "174e376c",
      "metadata": {
        "id": "174e376c"
      },
      "source": [
        "# Zomato Exercise"
      ]
    },
    {
      "cell_type": "markdown",
      "id": "2d84fdf3",
      "metadata": {
        "id": "2d84fdf3"
      },
      "source": [
        "Zomato is a restaurant aggregator website. The platform provides information, menus and user-reviews of restaurants as well as food delivery options from partner restaurants in select cities. You have been provided 3 datasets:\n",
        "\n",
        "- zomato.csv contains restaurant information like average_cost_for_two, cuisines\n",
        "- location.csv contains location of the restaurants like address, city, locality & etc\n",
        "- ratings.csv contains aggregate rating for each restaurant\n",
        "\n",
        "The different files are connected using the `id` columns which can be found in the different files. The id column is a unique identifier to represent a restaurant. You can use this to **merge** the different files."
      ]
    },
    {
      "cell_type": "code",
      "execution_count": 2,
      "id": "5337de5f",
      "metadata": {
        "id": "5337de5f"
      },
      "outputs": [],
      "source": [
        "import pandas as pd\n",
        "import numpy as np"
      ]
    },
    {
      "cell_type": "markdown",
      "id": "77605fbc",
      "metadata": {
        "id": "77605fbc"
      },
      "source": [
        "1. Merge the zomato, location & ratings file into a signle dataframe and store it to the `merged_df` variable **(3pts)**"
      ]
    },
    {
      "cell_type": "code",
      "execution_count": 4,
      "id": "ddbd0bb1",
      "metadata": {
        "id": "ddbd0bb1"
      },
      "outputs": [],
      "source": [
        "zomato_df = pd.read_csv('/zomato.csv')\n",
        "location_df = pd.read_csv('/location.csv')\n",
        "ratings_df = pd.read_csv('/ratings.csv')\n",
        "\n",
        "merged_df = pd.merge(zomato_df, location_df, on='id', how='inner')\n",
        "merged_df = pd.merge(merged_df, ratings_df, on='id', how='inner')"
      ]
    },
    {
      "cell_type": "code",
      "source": [
        "from google.colab import drive\n",
        "drive.mount('/content/drive')"
      ],
      "metadata": {
        "colab": {
          "base_uri": "https://localhost:8080/"
        },
        "id": "ozc-nX0cwtbr",
        "outputId": "a6f883b1-84a4-4260-83d8-40ab00e70321"
      },
      "id": "ozc-nX0cwtbr",
      "execution_count": 5,
      "outputs": [
        {
          "output_type": "stream",
          "name": "stdout",
          "text": [
            "Mounted at /content/drive\n"
          ]
        }
      ]
    },
    {
      "cell_type": "code",
      "execution_count": 6,
      "id": "b2a86a44",
      "metadata": {
        "id": "b2a86a44",
        "colab": {
          "base_uri": "https://localhost:8080/"
        },
        "outputId": "80e7197b-d874-43ce-e6d9-c6f5fe71fbbe"
      },
      "outputs": [
        {
          "output_type": "stream",
          "name": "stdout",
          "text": [
            "            id  average_cost_for_two book_url  \\\n",
            "0      6316125                  1000      NaN   \n",
            "1     18409457                  1300      NaN   \n",
            "2      6307689                  1600      NaN   \n",
            "3     18581637                  1000      NaN   \n",
            "4      6315438                  3000      NaN   \n",
            "...        ...                   ...      ...   \n",
            "6825  18635649                  1000      NaN   \n",
            "6826   6318581                   400      NaN   \n",
            "6827   6318578                   450      NaN   \n",
            "6828   6309612                  1000      NaN   \n",
            "6829   6318582                   600      NaN   \n",
            "\n",
            "                                        cuisines currency  \\\n",
            "0                                Japanese, Ramen        P   \n",
            "1                      Korean, Grill, Korean BBQ        P   \n",
            "2                             American, Filipino        P   \n",
            "3                                         Korean        P   \n",
            "4     Seafood, American, Mediterranean, Japanese        P   \n",
            "...                                          ...      ...   \n",
            "6825                              Deli, Filipino        P   \n",
            "6826                                   Fast Food        P   \n",
            "6827                            Bakery, Filipino        P   \n",
            "6828                           American, Italian        P   \n",
            "6829                            Pizza, Fast Food        P   \n",
            "\n",
            "                          deeplink  \\\n",
            "0      zomato://restaurant/6316125   \n",
            "1     zomato://restaurant/18409457   \n",
            "2      zomato://restaurant/6307689   \n",
            "3     zomato://restaurant/18581637   \n",
            "4      zomato://restaurant/6315438   \n",
            "...                            ...   \n",
            "6825  zomato://restaurant/18635649   \n",
            "6826   zomato://restaurant/6318581   \n",
            "6827   zomato://restaurant/6318578   \n",
            "6828   zomato://restaurant/6309612   \n",
            "6829   zomato://restaurant/6318582   \n",
            "\n",
            "                                             events_url  \\\n",
            "0     https://www.zomato.com/manila/mendokoro-ramenb...   \n",
            "1     https://www.zomato.com/manila/soban-k-town-gri...   \n",
            "2     https://www.zomato.com/manila/filling-station-...   \n",
            "3     https://www.zomato.com/manila/romantic-baboy-t...   \n",
            "4     https://www.zomato.com/manila/niu-by-vikings-b...   \n",
            "...                                                 ...   \n",
            "6825  https://www.zomato.com/manila/trader-juans-fil...   \n",
            "6826  https://www.zomato.com/manila/jollibee-north-c...   \n",
            "6827  https://www.zomato.com/manila/goldilocks-north...   \n",
            "6828  https://www.zomato.com/manila/red-buffalo-wing...   \n",
            "6829  https://www.zomato.com/manila/greenwich-north-...   \n",
            "\n",
            "                                         featured_image  has_online_delivery  \\\n",
            "0     https://b.zmtcdn.com/data/reviews_photos/971/2...                    0   \n",
            "1     https://b.zmtcdn.com/data/res_imagery/18290970...                    0   \n",
            "2     https://b.zmtcdn.com/data/pictures/9/6307689/b...                    0   \n",
            "3     https://b.zmtcdn.com/data/reviews_photos/cc1/a...                    0   \n",
            "4     https://b.zmtcdn.com/data/pictures/chains/8/63...                    0   \n",
            "...                                                 ...                  ...   \n",
            "6825                                                NaN                    0   \n",
            "6826  http://b.zmtcdn.com/data/pictures/chains/0/630...                    0   \n",
            "6827  https://b.zmtcdn.com/data/res_imagery/6300003_...                    0   \n",
            "6828  https://b.zmtcdn.com/data/res_imagery/6309612_...                    0   \n",
            "6829  https://b.zmtcdn.com/data/pictures/chains/2/63...                    0   \n",
            "\n",
            "      has_table_booking  ...  country_id   latitude  \\\n",
            "0                     0  ...         162  14.560313   \n",
            "1                     0  ...         162  14.552137   \n",
            "2                     0  ...         162  14.563144   \n",
            "3                     0  ...         162  14.633713   \n",
            "4                     0  ...         162  14.546236   \n",
            "...                 ...  ...         ...        ...   \n",
            "6825                  0  ...         162  14.422261   \n",
            "6826                  0  ...         162  14.756424   \n",
            "6827                  0  ...         162  14.756406   \n",
            "6828                  0  ...         162  14.610628   \n",
            "6829                  0  ...         162  14.756382   \n",
            "\n",
            "                                               locality  \\\n",
            "0                                       Salcedo Village   \n",
            "1                 Greenbelt 3, San Lorenzo, Makati City   \n",
            "2                                             Poblacion   \n",
            "3                                          Tomas Morato   \n",
            "4     SM Aura Premier, Bonifacio Global City, Taguig...   \n",
            "...                                                 ...   \n",
            "6825    Westgate Center, Filinvest City, Mutinlupa City   \n",
            "6826  Zabarte Town Center, North Caloocan, Caloocan ...   \n",
            "6827  Zabarte Town Center, North Caloocan, Caloocan ...   \n",
            "6828     Greenhills Town Center, Valencia, Quezon City    \n",
            "6829  Zabarte Town Center, North Caloocan, Caloocan ...   \n",
            "\n",
            "                                       locality_verbose   longitude zipcode  \\\n",
            "0                          Salcedo Village, Makati City  121.024638     NaN   \n",
            "1     Greenbelt 3, San Lorenzo, Makati City, Makati ...  121.021325     NaN   \n",
            "2                                Poblacion, Makati City  121.029800  1210.0   \n",
            "3                             Tomas Morato, Quezon City  121.035026     NaN   \n",
            "4     SM Aura Premier, Bonifacio Global City, Taguig...  121.054365     NaN   \n",
            "...                                                 ...         ...     ...   \n",
            "6825  Westgate Center, Filinvest City, Mutinlupa Cit...  121.033175     NaN   \n",
            "6826  Zabarte Town Center, North Caloocan, Caloocan ...  121.043329     NaN   \n",
            "6827  Zabarte Town Center, North Caloocan, Caloocan ...  121.043498     NaN   \n",
            "6828  Greenhills Town Center, Valencia, Quezon City ...  121.037031     NaN   \n",
            "6829  Zabarte Town Center, North Caloocan, Caloocan ...  121.043452     NaN   \n",
            "\n",
            "     aggregate_rating rating_color rating_text  votes  \n",
            "0                 4.9       3F7E00   Excellent   1394  \n",
            "1                 4.6       3F7E00   Excellent    602  \n",
            "2                 4.0       5BA829   Very Good    563  \n",
            "3                 4.0       5BA829   Very Good    413  \n",
            "4                 4.6       3F7E00   Excellent    960  \n",
            "...               ...          ...         ...    ...  \n",
            "6825              2.9       FFBA00     Average      6  \n",
            "6826              3.0       CDD614     Average      5  \n",
            "6827              0.0       CBCBC8   Not rated      1  \n",
            "6828              3.7       9ACD32        Good     96  \n",
            "6829              0.0       CBCBC8   Not rated      2  \n",
            "\n",
            "[6830 rows x 35 columns]\n"
          ]
        }
      ],
      "source": [
        "assert (6830, 35)==merged_df.shape\n",
        "\n",
        "cols = ['id', 'address', 'city', 'city_id', 'country_id', 'latitude',\n",
        "       'locality', 'locality_verbose', 'longitude', 'zipcode',\n",
        "       'aggregate_rating', 'rating_color', 'rating_text', 'votes',\n",
        "       'average_cost_for_two', 'book_url', 'cuisines', 'currency', 'deeplink',\n",
        "       'events_url', 'featured_image', 'has_online_delivery',\n",
        "       'has_table_booking', 'include_bogo_offers', 'is_book_form_web_view',\n",
        "       'is_delivering_now', 'is_table_reservation_supported',\n",
        "       'is_zomato_book_res', 'menu_url', 'mezzo_provider', 'name',\n",
        "       'photos_url', 'price_range', 'thumb', 'url']\n",
        "\n",
        "assert sorted(merged_df.columns) == sorted(cols)\n",
        "print(merged_df)"
      ]
    },
    {
      "cell_type": "markdown",
      "id": "02223abe",
      "metadata": {
        "id": "02223abe"
      },
      "source": [
        "2. Create a function that returns the average aggregate rating for each city. Expected returned value is a Series datatype which contains name of city as index and average aggregate rating as value. **(2pts)**"
      ]
    },
    {
      "cell_type": "code",
      "execution_count": 20,
      "id": "bd7d8f34",
      "metadata": {
        "id": "bd7d8f34"
      },
      "outputs": [],
      "source": [
        "def exercise_2(merged_df):\n",
        "    res_series = merged_df.groupby('city')['aggregate_rating'].mean()\n",
        "    return res_series"
      ]
    },
    {
      "cell_type": "code",
      "source": [
        "print(\"Manila:\", res_series[res_series.index == 'Manila'])\n",
        "print(\"Quezon City:\", res_series[res_series.index == 'Quezon City'])\n",
        "print(\"Makati City:\", res_series[res_series.index == 'Makati City'])\n",
        "print(\"Taguig City:\", res_series[res_series.index == 'Taguig City'])"
      ],
      "metadata": {
        "colab": {
          "base_uri": "https://localhost:8080/"
        },
        "id": "aEzv3Z_J0ZFx",
        "outputId": "2b270e8f-e23f-4c25-a7eb-e2bb2f34f3db"
      },
      "id": "aEzv3Z_J0ZFx",
      "execution_count": 24,
      "outputs": [
        {
          "output_type": "stream",
          "name": "stdout",
          "text": [
            "Manila: city\n",
            "Manila    2.842652\n",
            "Name: aggregate_rating, dtype: float64\n",
            "Quezon City: city\n",
            "Quezon City    2.887946\n",
            "Name: aggregate_rating, dtype: float64\n",
            "Makati City: city\n",
            "Makati City    3.250512\n",
            "Name: aggregate_rating, dtype: float64\n",
            "Taguig City: city\n",
            "Taguig City    3.234105\n",
            "Name: aggregate_rating, dtype: float64\n"
          ]
        }
      ]
    },
    {
      "cell_type": "code",
      "execution_count": 26,
      "id": "10e5b4c1",
      "metadata": {
        "id": "10e5b4c1"
      },
      "outputs": [],
      "source": [
        "res_series = exercise_2(merged_df)\n",
        "assert True == np.isclose(3.302075, res_series[res_series.index == 'Pasay City'],\n",
        "                          rtol=1e-05, atol=1e-08, equal_nan=False)[0]\n",
        "assert True == np.isclose(1.890741, res_series[res_series.index == 'Valenzuela City'],\n",
        "                          rtol=1e-05, atol=1e-08, equal_nan=False)[0]\n",
        "assert True == np.isclose(1.558333, res_series[res_series.index == 'Malabon City'],\n",
        "                          rtol=1e-05, atol=1e-08, equal_nan=False)[0]\n",
        "assert True == np.isclose(2.842652, res_series[res_series.index == 'Manila'],\n",
        "                          rtol=1e-05, atol=1e-08, equal_nan=False)[0]\n",
        "assert True == np.isclose(2.887946, res_series[res_series.index == 'Quezon City'],\n",
        "                          rtol=1e-05, atol=1e-08, equal_nan=False)[0]\n",
        "assert True == np.isclose(3.250512, res_series[res_series.index == 'Makati City'],\n",
        "                          rtol=1e-05, atol=1e-08, equal_nan=False)[0]\n",
        "assert True == np.isclose(3.234105, res_series[res_series.index == 'Taguig City'],\n",
        "                          rtol=1e-05, atol=1e-08, equal_nan=False)[0]"
      ]
    },
    {
      "cell_type": "markdown",
      "id": "5db591ac",
      "metadata": {
        "id": "5db591ac"
      },
      "source": [
        "3. Using the apply function of pandas convert the rating_text to a numeric equivalent. You are to introduce a new column in merged_df called `rating_numeric` which is based on the value from rating_text: **(3pts)**\n",
        "\n",
        "Excellent = 5 <br>\n",
        "Very Good = 4 <br>\n",
        "Good = 3 <br>\n",
        "Average = 2 <br>\n",
        "Poor = 1 <br>\n",
        "Not rated = 0 <br>"
      ]
    },
    {
      "cell_type": "code",
      "execution_count": 27,
      "id": "41293771",
      "metadata": {
        "id": "41293771",
        "colab": {
          "base_uri": "https://localhost:8080/"
        },
        "outputId": "ad475f06-f8c9-49a6-981a-af3c8df6145d"
      },
      "outputs": [
        {
          "output_type": "stream",
          "name": "stdout",
          "text": [
            "  rating_text  rating_numeric\n",
            "0   Excellent               5\n",
            "1   Excellent               5\n",
            "2   Very Good               4\n",
            "3   Very Good               4\n",
            "4   Excellent               5\n"
          ]
        }
      ],
      "source": [
        "rating_map = {\n",
        "    'Excellent': 5,\n",
        "    'Very Good': 4,\n",
        "    'Good': 3,\n",
        "    'Average': 2,\n",
        "    'Poor': 1\n",
        "}\n",
        "\n",
        "# Apply the mapping to create a new column 'rating_numeric'\n",
        "merged_df['rating_numeric'] = merged_df['rating_text'].apply(lambda x: rating_map.get(x, 0))\n",
        "\n",
        "# Print the first few rows to verify the results\n",
        "print(merged_df[['rating_text', 'rating_numeric']].head())"
      ]
    },
    {
      "cell_type": "code",
      "execution_count": 28,
      "id": "c62df922",
      "metadata": {
        "id": "c62df922"
      },
      "outputs": [],
      "source": [
        "assert 868 == merged_df[merged_df.rating_numeric == 0].shape[0]\n",
        "assert True == ('rating_numeric' in merged_df.columns)"
      ]
    },
    {
      "cell_type": "markdown",
      "id": "97ec4197",
      "metadata": {
        "id": "97ec4197"
      },
      "source": [
        "4. Create a function which filters the merged dataframe to only contain rows coming in from a specific city. Expected returned value is a dataframe **(2pts)**"
      ]
    },
    {
      "cell_type": "code",
      "execution_count": 38,
      "id": "9773b18e",
      "metadata": {
        "id": "9773b18e"
      },
      "outputs": [],
      "source": [
        "def exercise_4(merged_df, city):\n",
        "    filtered_df = merged_df[merged_df['city'] == city]\n",
        "    return filtered_df"
      ]
    },
    {
      "cell_type": "code",
      "execution_count": 42,
      "id": "1ca29a81",
      "metadata": {
        "id": "1ca29a81"
      },
      "outputs": [],
      "source": [
        "filtered_df = exercise_4(merged_df, 'Makati City')\n",
        "assert 'Makati City' == exercise_4(merged_df, 'Makati City').city.unique()[0]\n",
        "assert (976, 36) == exercise_4(merged_df, 'Makati City').shape\n",
        "\n",
        "filtered_df = exercise_4(merged_df, 'Mandaluyong City')\n",
        "assert 'Mandaluyong City' == exercise_4(merged_df, 'Mandaluyong City').city.unique()[0]\n",
        "assert (443, 36) == exercise_4(merged_df, 'Mandaluyong City').shape\n",
        "\n",
        "filtered_df = exercise_4(merged_df, 'Quezon City')\n",
        "assert (0, 36) == exercise_4(merged_df, 'Quezon  City').shape"
      ]
    },
    {
      "cell_type": "markdown",
      "id": "ca7bf3c1",
      "metadata": {
        "id": "ca7bf3c1"
      },
      "source": [
        "5. Create a function to filter the dataframe to only contain certain columns passed in the function. Expected returned value is a dataframe **(1pt)**"
      ]
    },
    {
      "cell_type": "code",
      "execution_count": 51,
      "id": "59787577",
      "metadata": {
        "id": "59787577"
      },
      "outputs": [],
      "source": [
        "def exercise_5(merged_df, cols_to_filter):\n",
        "    filtered_df = merged_df[cols_to_filter]\n",
        "    return filtered_df"
      ]
    },
    {
      "cell_type": "code",
      "execution_count": 52,
      "id": "da27c054",
      "metadata": {
        "id": "da27c054"
      },
      "outputs": [],
      "source": [
        "cols = ['name', 'cuisines', 'city', 'aggregate_rating']\n",
        "\n",
        "filtered_df = exercise_5(merged_df, cols)\n",
        "assert sorted(cols) == sorted(exercise_5(merged_df, cols).columns)\n",
        "assert (6830, 4) == exercise_5(merged_df, cols).shape\n",
        "\n",
        "cols = ['average_cost_for_two', 'book_url', 'cuisines', 'currency', 'deeplink',\n",
        "       'events_url', 'featured_image', 'has_online_delivery',\n",
        "       'has_table_booking', 'include_bogo_offers', 'is_book_form_web_view']\n",
        "assert sorted(cols) == sorted(exercise_5(merged_df, cols).columns)\n",
        "assert (6830, 11) == exercise_5(merged_df, cols).shape\n"
      ]
    },
    {
      "cell_type": "markdown",
      "id": "d69c7e2e",
      "metadata": {
        "id": "d69c7e2e"
      },
      "source": [
        "6.  What is the most common restaurant name in the dataset? **(2pts)** Write down your answer and show code used to come up with the answer."
      ]
    },
    {
      "cell_type": "code",
      "execution_count": 54,
      "id": "cf9cdab1",
      "metadata": {
        "id": "cf9cdab1",
        "colab": {
          "base_uri": "https://localhost:8080/"
        },
        "outputId": "1adb20bc-d079-47ab-ba3e-db1d9f8d4c95"
      },
      "outputs": [
        {
          "output_type": "stream",
          "name": "stdout",
          "text": [
            "The most common restaurant name is: Starbucks\n"
          ]
        }
      ],
      "source": [
        "def common_resto(merged_df):\n",
        "    common_counts = merged_df['name'].value_counts()\n",
        "    common_resto = common_counts.idxmax()\n",
        "\n",
        "    return common_resto\n",
        "\n",
        "common_name = common_resto(merged_df)\n",
        "print(\"The most common restaurant name is:\", common_name)"
      ]
    },
    {
      "cell_type": "markdown",
      "id": "7675b4b1",
      "metadata": {
        "id": "7675b4b1"
      },
      "source": [
        "7. Which restaurant has the most expensive average cost for two? **(2pts)** Write down your answer and show code used to come up with the answer."
      ]
    },
    {
      "cell_type": "code",
      "execution_count": 57,
      "id": "b447b440",
      "metadata": {
        "id": "b447b440",
        "colab": {
          "base_uri": "https://localhost:8080/"
        },
        "outputId": "916980e8-a6d2-4690-9cba-34d8c57d44b0"
      },
      "outputs": [
        {
          "output_type": "stream",
          "name": "stdout",
          "text": [
            "The most expensive restaurant name is: Starbucks\n"
          ]
        }
      ],
      "source": [
        "def expensive_resto(merged_df):\n",
        "    expensive_counts = merged_df['name'].value_counts()\n",
        "    expensive_resto = expensive_counts.idxmax()\n",
        "\n",
        "    return expensive_resto\n",
        "\n",
        "expensive_name = expensive_resto(merged_df)\n",
        "print(\"The most expensive restaurant name is:\", expensive_name)"
      ]
    },
    {
      "cell_type": "markdown",
      "id": "af873fb7",
      "metadata": {
        "id": "af873fb7"
      },
      "source": [
        "8. How many restaurants do not have a zipcode? **(1pt)** Write down your answer and show code used to come up with the answer."
      ]
    },
    {
      "cell_type": "code",
      "execution_count": 63,
      "id": "43f1234a",
      "metadata": {
        "id": "43f1234a",
        "colab": {
          "base_uri": "https://localhost:8080/"
        },
        "outputId": "df144dea-6618-4669-8315-cb8b95865283"
      },
      "outputs": [
        {
          "output_type": "stream",
          "name": "stdout",
          "text": [
            "Number of restaurants that do not have a zipcode: 6713\n"
          ]
        }
      ],
      "source": [
        "def count_no_zipcode(merged_df):\n",
        "    count_no_zipcode = merged_df['zipcode'].isna().sum()\n",
        "    return count_no_zipcode\n",
        "no_zip = count_no_zipcode(merged_df)\n",
        "print(\"Number of restaurants that do not have a zipcode:\", no_zip)"
      ]
    },
    {
      "cell_type": "markdown",
      "id": "9347ac03",
      "metadata": {
        "id": "9347ac03"
      },
      "source": [
        "9. How many restaurants in the dataset allow online delivery? **(1pt)** Write down your answer and show code used to come up with the answer."
      ]
    },
    {
      "cell_type": "code",
      "execution_count": 72,
      "id": "24b62212",
      "metadata": {
        "id": "24b62212",
        "colab": {
          "base_uri": "https://localhost:8080/"
        },
        "outputId": "ac0533f6-619d-46c7-fac4-59f3df515881"
      },
      "outputs": [
        {
          "output_type": "stream",
          "name": "stdout",
          "text": [
            "Number of restaurants that allow online delivery: 0\n"
          ]
        }
      ],
      "source": [
        "def count_online_delivery(merged_df):\n",
        "    count_online_delivery = merged_df['has_online_delivery'].sum()\n",
        "    return count_online_delivery\n",
        "\n",
        "oldelivery_count = count_online_delivery(merged_df)\n",
        "print(\"Number of restaurants that allow online delivery:\", oldelivery_count)"
      ]
    },
    {
      "cell_type": "markdown",
      "id": "7f2c7aa3",
      "metadata": {
        "id": "7f2c7aa3"
      },
      "source": [
        "10. Which locatlity has more expensive food? Poblacion or Salcedo Village? **(3pts)** Write down your answer and show code used to come up with the answer.\n"
      ]
    },
    {
      "cell_type": "code",
      "execution_count": 69,
      "id": "8fb7ce16",
      "metadata": {
        "id": "8fb7ce16",
        "colab": {
          "base_uri": "https://localhost:8080/"
        },
        "outputId": "da15f7b8-7df0-4353-c9a3-4a980f5ffb3d"
      },
      "outputs": [
        {
          "output_type": "stream",
          "name": "stdout",
          "text": [
            "Average cost for two in Poblacion: 898.21\n",
            "Average cost for two in Salcedo Village: 989.10\n",
            "The locality with more expensive food is: Salcedo Village\n"
          ]
        }
      ],
      "source": [
        "def local_average_cost(merged_df, locality):\n",
        "    local_average_cost = merged_df[merged_df['locality'] == locality]['average_cost_for_two'].mean()\n",
        "    return local_average_cost\n",
        "\n",
        "average_cost_poblacion = local_average_cost(merged_df, 'Poblacion')\n",
        "average_cost_salcedo = local_average_cost(merged_df, 'Salcedo Village')\n",
        "\n",
        "print(f\"Average cost for two in Poblacion: {average_cost_poblacion:.2f}\")\n",
        "print(f\"Average cost for two in Salcedo Village: {average_cost_salcedo:.2f}\")\n",
        "\n",
        "if average_cost_poblacion > average_cost_salcedo:\n",
        "    more_expensive_locality = \"Poblacion\"\n",
        "else:\n",
        "    more_expensive_locality = \"Salcedo Village\"\n",
        "\n",
        "print(f\"The locality with more expensive food is: {more_expensive_locality}\")\n"
      ]
    }
  ],
  "metadata": {
    "kernelspec": {
      "display_name": "Python 3",
      "language": "python",
      "name": "python3"
    },
    "language_info": {
      "codemirror_mode": {
        "name": "ipython",
        "version": 3
      },
      "file_extension": ".py",
      "mimetype": "text/x-python",
      "name": "python",
      "nbconvert_exporter": "python",
      "pygments_lexer": "ipython3",
      "version": "3.7.7"
    },
    "colab": {
      "provenance": []
    }
  },
  "nbformat": 4,
  "nbformat_minor": 5
}